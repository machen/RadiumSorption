{
 "cells": [
  {
   "cell_type": "code",
   "execution_count": 13,
   "metadata": {
    "collapsed": false
   },
   "outputs": [],
   "source": [
    "import numpy as np, pandas as pd, matplotlib as mpl, matplotlib.pyplot as plt\n",
    "from scipy.stats import linregress\n",
    "\n",
    "#load Data\n",
    "dataFileName = \"Isotherm_Data\"\n",
    "dataFilePath = \"FHY_06_26_2015/\"\n",
    "rawData = pd.read_csv(dataFilePath+dataFileName+\".csv\",header=0)\n",
    "\n",
    "#Plot Data\n",
    "Cw = rawData.ix[:,'Cw'].values\n",
    "Cs = rawData.ix[:,'Cs'].values\n",
    "dCw = rawData.ix[:,'sCw'].values\n",
    "dCs = rawData.ix[:,'sCs'].values\n",
    "\n",
    "plotfit = linregress(Cw, Cs)\n",
    "plotfit = {'Slope':plotfit[0],'Intercept':plotfit[1],'R2':plotfit[2]**2,'p':plotfit[3],'StdErr':plotfit[4]}\n",
    "\n",
    "f1 = plt.figure(1)\n",
    "plt.clf()\n",
    "perr = plt.errorbar(Cw, Cs, yerr = dCs, xerr = dCw, fmt='none')\n",
    "p1, = plt.plot(Cw, Cs, \"ob\")\n",
    "p2, = plt.plot(np.arange(0,1000,100),np.polyval((plotfit['Slope'],plotfit['Intercept']),np.arange(0,1000,100)),'-r')\n",
    "plt.title('Isotherm 06_26_2015'+'Kd = '+str(plotfit['Slope']))\n",
    "plt.xlabel('Cw')\n",
    "plt.ylabel('Cs')\n",
    "plt.legend((p1,p2,),('Data','Fit R2: '+str(plotfit['R2'])),loc=0)\n",
    "plt.savefig(dataFilePath+\"Isotherm Plot.png\")\n",
    "\n",
    "#Langmuir Isotherm (1/Cs vs 1/Cw)\n",
    "\n",
    "f2 = plt.figure(2)\n",
    "plt.clf()\n",
    "\n",
    "langfit = linregress(1/Cw,1/Cs)\n",
    "langfit = {'Slope':langfit[0], 'Intercept':langfit[1], 'R2':langfit[2]**2, 'p':langfit[3], 'StdErr':langfit[4]}\n",
    "\n",
    "perr1 = plt.errorbar(1/Cw,1/Cs, yerr = (1/Cs**2)*dCs, xerr = (1/Cw**2)*dCw, fmt='none')\n",
    "p3, = plt.plot(1/Cw, 1/Cs, \"ob\")\n",
    "p4, = plt.plot(np.arange(0,0.05,0.001),np.polyval((langfit['Slope'],langfit['Intercept']),np.arange(0,0.05,0.001)),'-r')\n",
    "plt.title('Langmuir Isotherm 06_26_2015')\n",
    "plt.xlabel('1/Cw')\n",
    "plt.ylabel('1/Cs')\n",
    "plt.legend((p3,p4,),('Data', 'Fit R2: '+str(langfit['R2'])),loc=0)\n",
    "plt.savefig(dataFilePath+'Langmuir Isotherm plot.png')\n",
    "\n",
    "#Trying logCs vs logCw\n",
    "\n",
    "f3 = plt.figure(3)\n",
    "plt.clf()\n",
    "logfit = linregress(np.log(Cw),np.log(Cs))\n",
    "logfit = {'Slope':logfit[0], 'Intercept':logfit[1], 'R2':logfit[2]**2, 'p':logfit[3], 'StdErr':logfit[4]}\n",
    "\n",
    "perr_log = plt.errorbar(np.log(Cw), np.log(Cs), yerr = (1/Cs)*dCs, xerr=(1/Cw)*dCw, fmt='none')\n",
    "p5, = plt.plot(np.log(Cw),np.log(Cs),\"ob\")\n",
    "p6, = plt.plot(np.arange(0, 10, 1),np.polyval((logfit['Slope'],logfit['Intercept']),np.arange(0,10,1)), '-r')\n",
    "plt.title('log Cs vs log Cw')\n",
    "plt.xlabel('log Cw')\n",
    "plt.ylabel('log Cs')\n",
    "plt.legend((p5,p6,), ('Data', 'Fit R2: '+str(logfit['R2'])),loc=0)\n",
    "plt.savefig(dataFilePath+'LogCs vs LogCw plot.png')\n",
    "\n",
    "plt.show()                       "
   ]
  },
  {
   "cell_type": "code",
   "execution_count": null,
   "metadata": {
    "collapsed": true
   },
   "outputs": [],
   "source": []
  }
 ],
 "metadata": {
  "kernelspec": {
   "display_name": "Python 2",
   "language": "python",
   "name": "python2"
  },
  "language_info": {
   "codemirror_mode": {
    "name": "ipython",
    "version": 2
   },
   "file_extension": ".py",
   "mimetype": "text/x-python",
   "name": "python",
   "nbconvert_exporter": "python",
   "pygments_lexer": "ipython2",
   "version": "2.7.9"
  }
 },
 "nbformat": 4,
 "nbformat_minor": 0
}
